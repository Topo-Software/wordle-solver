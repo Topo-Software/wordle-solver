{
 "cells": [
  {
   "cell_type": "code",
   "execution_count": 91,
   "metadata": {},
   "outputs": [],
   "source": [
    "#import words.json\n",
    "import json\n",
    "import numpy as np\n",
    "from string import ascii_lowercase as alphabet\n",
    "\n",
    "\n",
    "def split(word):\n",
    "    return [char for char in word]\n",
    "\n",
    "knownLetters=split(\"gho\")#all yellow or green\n",
    "usedLetters=np.array(split(\"ghost\")) #all used letters\n",
    "usedLettersWithUnknownPosition= [[],[],[],[],[]] #only yellow used letters in correct position\n",
    "lettersWithKnownPosition=[\"g\",\"h\",\"o\",\"\",\"\"]#green"
   ]
  },
  {
   "cell_type": "code",
   "execution_count": 92,
   "metadata": {},
   "outputs": [
    {
     "name": "stdout",
     "output_type": "stream",
     "text": [
      "['g', 'h', 'o']\n",
      "['g' 'h' 'o' 's' 't']\n",
      "[[], [], [], [], []]\n",
      "['g', 'h', 'o', '', '']\n"
     ]
    }
   ],
   "source": [
    "print(knownLetters)\n",
    "print(usedLetters)\n",
    "print(usedLettersWithUnknownPosition)\n",
    "print(lettersWithKnownPosition)\n"
   ]
  },
  {
   "cell_type": "code",
   "execution_count": 93,
   "metadata": {},
   "outputs": [],
   "source": [
    "\n",
    "with open('Words.json') as f:\n",
    "    allWordleWords = json.load(f)\n",
    "\n",
    "\n",
    "def filterWordsContainingAllKnownLetters(allWordleWords,knownLetters):\n",
    "    filteredWordleWords=[]\n",
    "    for word in allWordleWords:\n",
    "        if all(letter in word for letter in knownLetters):\n",
    "            filteredWordleWords.append(word)\n",
    "    return filteredWordleWords\n",
    "\n",
    "def filterWordsAccordingToKnownPositions(remainingWordleWords,lettersWithKnownPosition):\n",
    "    if lettersWithKnownPosition == [\"\",\"\",\"\",\"\",\"\"]:\n",
    "        return remainingWordleWords\n",
    "    filteredWordleWords=[]\n",
    "    #append all words that contain all letters in correct position\n",
    "    for word in remainingWordleWords:\n",
    "        allLettersInWordFit=[False]*5\n",
    "        for letterIndex, letter in enumerate(word):\n",
    "            if lettersWithKnownPosition[letterIndex] == \"\":\n",
    "                allLettersInWordFit[letterIndex]=True\n",
    "            elif letter == lettersWithKnownPosition[letterIndex]:\n",
    "                allLettersInWordFit[letterIndex]=True\n",
    "        if all(allLettersInWordFit):\n",
    "            filteredWordleWords.append(word)\n",
    "    return filteredWordleWords\n",
    "\n",
    "\n",
    "    # for word in remainingWordleWords:\n",
    "    #     allConditionsMet=False\n",
    "    #     for index, letter in enumerate(word):\n",
    "    #         if lettersWithKnownPosition[index]==\"\":\n",
    "    #             pass\n",
    "    #         elif letter in lettersWithKnownPosition[index]:\n",
    "    #             allConditionsMet=True\n",
    "    #         else:\n",
    "    #             allConditionsMet=False\n",
    "    #     if allConditionsMet:\n",
    "    #         filteredWordleWords.append(word)\n",
    "    return filteredWordleWords\n",
    "\n",
    "#determine unique letters that cannot be in word\n",
    "def getAvailableLetters(knownLetters,usedLetters):\n",
    "    availableLetters=[]\n",
    "    for letter in alphabet:\n",
    "        if letter in knownLetters or letter not in usedLetters:\n",
    "            availableLetters.append(letter)\n",
    "    return availableLetters\n",
    "\n",
    "def filterWordsAccordingToAvailableLetters(remainingWordleWords,availableLetters):\n",
    "    filteredWordleWords=[]\n",
    "    for word in remainingWordleWords:\n",
    "        if all(letter in availableLetters for letter in word):\n",
    "            filteredWordleWords.append(word)\n",
    "    return filteredWordleWords\n",
    "\n",
    "def availableLettersAccordingToPosition(usedLettersWithUnknownPosition):\n",
    "    availableLetters=[[],[],[],[],[]]\n",
    "    for letter in alphabet:\n",
    "        for index, usedLetterArray in enumerate(usedLettersWithUnknownPosition):\n",
    "            if letter not in usedLetterArray:\n",
    "                availableLetters[index].append(letter)\n",
    "    return availableLetters\n",
    "\n",
    "def filterWordsAccordingToKnownLetterPositions(remainingWordleWords,availableLettersWithPosition):\n",
    "    filteredWordleWords=[]\n",
    "    \n",
    "    for word in remainingWordleWords:\n",
    "        allLettersAvailable=True\n",
    "        for index, letter in enumerate(word):\n",
    "            if letter not in availableLettersWithPosition[index]:\n",
    "                allLettersAvailable=False\n",
    "        if allLettersAvailable:\n",
    "            filteredWordleWords.append(word)\n",
    "    return filteredWordleWords\n",
    "\n",
    "def split(word):\n",
    "    return [char for char in word]\n"
   ]
  },
  {
   "cell_type": "code",
   "execution_count": 94,
   "metadata": {},
   "outputs": [
    {
     "name": "stdout",
     "output_type": "stream",
     "text": [
      "['g', 'h', 'o', '', '']\n"
     ]
    }
   ],
   "source": [
    "availableLettersWithPosition = availableLettersAccordingToPosition(usedLettersWithUnknownPosition)\n",
    "availableLetters = getAvailableLetters(knownLetters,usedLetters)\n",
    "remainingWordleWords = filterWordsContainingAllKnownLetters(allWordleWords,knownLetters)\n",
    "remainingWordleWords = filterWordsAccordingToKnownPositions(remainingWordleWords,lettersWithKnownPosition)\n",
    "remainingWordleWords = filterWordsAccordingToAvailableLetters(remainingWordleWords,availableLetters)\n",
    "remainingWordleWords = filterWordsAccordingToKnownLetterPositions(remainingWordleWords,availableLettersWithPosition)"
   ]
  },
  {
   "cell_type": "code",
   "execution_count": 95,
   "metadata": {},
   "outputs": [],
   "source": [
    "letterCountDict = {}\n",
    "for letter in alphabet:\n",
    "    letterCountDict[letter] = [0,0,0,0,0]"
   ]
  },
  {
   "cell_type": "code",
   "execution_count": 96,
   "metadata": {},
   "outputs": [],
   "source": [
    "for word in remainingWordleWords:\n",
    "    for index, letter in enumerate(word):\n",
    "        letterCountDict[letter][index] += 1"
   ]
  },
  {
   "cell_type": "code",
   "execution_count": 97,
   "metadata": {},
   "outputs": [],
   "source": [
    "normalizedLetterCountDict = {}\n",
    "for letter in alphabet:\n",
    "    normalizedLetterCountDict[letter] = [0,0,0,0,0]\n",
    "    for index, count in enumerate(letterCountDict[letter]):\n",
    "        normalizedLetterCountDict[letter][index] = count/len(remainingWordleWords)\n"
   ]
  },
  {
   "cell_type": "code",
   "execution_count": 98,
   "metadata": {},
   "outputs": [],
   "source": [
    "#determine probability duplicate letters in remaining word list index is letter number of occurrences\n",
    "letterMultiplesArray = {}\n",
    "for letter in alphabet:\n",
    "    letterMultiplesArray[letter] = [0,0,0,0,0]"
   ]
  },
  {
   "cell_type": "code",
   "execution_count": 99,
   "metadata": {},
   "outputs": [],
   "source": [
    "for word in remainingWordleWords:\n",
    "    for letter in word:\n",
    "        letterMultiplesArray[letter][word.count(letter)-1] += 1"
   ]
  },
  {
   "cell_type": "code",
   "execution_count": 100,
   "metadata": {},
   "outputs": [],
   "source": [
    "# normalise letterMultiplesArray\n",
    "normalizedLetterMultiplesDict = {}\n",
    "for letter in alphabet:\n",
    "    normalizedLetterMultiplesDict[letter] = [0,0,0,0,0]\n",
    "    for index, count in enumerate(letterMultiplesArray[letter]):\n",
    "        normalizedLetterMultiplesDict[letter][index] = count/len(remainingWordleWords)"
   ]
  },
  {
   "cell_type": "code",
   "execution_count": 101,
   "metadata": {},
   "outputs": [],
   "source": [
    "#rate all words in remainingWordleWords return dictionary with word as key and score as value\n",
    "wordScoreDict = {}\n",
    "for word in remainingWordleWords:\n",
    "    score = 0\n",
    "    for index, letter in enumerate(word):\n",
    "        score += normalizedLetterCountDict[letter][index]\n",
    "    \n",
    "    wordScoreDict[word] = score"
   ]
  },
  {
   "cell_type": "code",
   "execution_count": 102,
   "metadata": {},
   "outputs": [],
   "source": [
    "#rate all words according to multiple of letter\n",
    "wordScoreMultipleDict = {}\n",
    "for word in remainingWordleWords:\n",
    "    score = 0\n",
    "    for index, letter in enumerate(word):\n",
    "        score += normalizedLetterMultiplesDict[letter][index]\n",
    "    \n",
    "    wordScoreMultipleDict[word] = score"
   ]
  },
  {
   "cell_type": "code",
   "execution_count": 103,
   "metadata": {},
   "outputs": [
    {
     "name": "stdout",
     "output_type": "stream",
     "text": [
      "[('hough', 2.5), ('bough', 2.2777777777777777), ('cough', 2.2777777777777777), ('dough', 2.2222222222222223), ('rough', 2.2222222222222223), ('lough', 2.2222222222222223), ('gouch', 1.9444444444444444), ('hongi', 1.777777777777778), ('hoagy', 1.7222222222222223), ('gonch', 1.6666666666666667), ('hoing', 1.5000000000000002), ('hogan', 1.4444444444444446), ('hogen', 1.388888888888889), ('brogh', 1.2777777777777777), ('cohog', 1.2222222222222223), ('ohing', 0.611111111111111), ('ghoul', 0.5), ('ogham', 0.4444444444444444)]\n"
     ]
    }
   ],
   "source": [
    "#sort wordScoreDict by value\n",
    "sortedWordScoreDict = sorted(wordScoreDict.items(), key=lambda x: x[1], reverse=True)\n",
    "print(sortedWordScoreDict)"
   ]
  },
  {
   "cell_type": "code",
   "execution_count": 104,
   "metadata": {},
   "outputs": [
    {
     "name": "stdout",
     "output_type": "stream",
     "text": [
      "[('ghoul', 1.1111111111111112), ('gonch', 1.1111111111111112), ('gouch', 1.1111111111111112), ('hoagy', 1.0555555555555556), ('hogan', 1.0555555555555556), ('hogen', 1.0555555555555556), ('hoing', 1.0555555555555556), ('hongi', 1.0555555555555556), ('hough', 1.0555555555555556), ('ohing', 1.0555555555555556), ('ogham', 0.9444444444444444), ('cough', 0.3333333333333333), ('cohog', 0.3333333333333333), ('bough', 0.2222222222222222), ('rough', 0.2222222222222222), ('lough', 0.2222222222222222), ('dough', 0.16666666666666666), ('brogh', 0.1111111111111111)]\n"
     ]
    }
   ],
   "source": [
    "sortedWordScoreMultipleDict = sorted(wordScoreMultipleDict.items(), key=lambda x: x[1], reverse=True)\n",
    "print(sortedWordScoreMultipleDict)"
   ]
  },
  {
   "cell_type": "code",
   "execution_count": 105,
   "metadata": {},
   "outputs": [],
   "source": [
    "totalScoreDict = {}\n",
    "for word in remainingWordleWords:\n",
    "    for index, letter in enumerate(word):\n",
    "        #count letter in word\n",
    "        multiple=word.count(letter)\n",
    "        totalScoreDict[word] = normalizedLetterCountDict[letter][index] + normalizedLetterMultiplesDict[letter][multiple]"
   ]
  },
  {
   "cell_type": "code",
   "execution_count": 106,
   "metadata": {},
   "outputs": [
    {
     "name": "stdout",
     "output_type": "stream",
     "text": [
      "[('bough', 0.6111111111111112), ('cough', 0.6111111111111112), ('dough', 0.6111111111111112), ('rough', 0.6111111111111112), ('brogh', 0.6111111111111112), ('gonch', 0.6111111111111112), ('gouch', 0.6111111111111112), ('lough', 0.6111111111111112), ('hough', 0.5), ('cohog', 0.16666666666666666), ('hoing', 0.16666666666666666), ('ohing', 0.16666666666666666), ('hogan', 0.1111111111111111), ('hogen', 0.1111111111111111), ('ghoul', 0.05555555555555555), ('hoagy', 0.05555555555555555), ('hongi', 0.05555555555555555), ('ogham', 0.05555555555555555)]\n"
     ]
    }
   ],
   "source": [
    "#sort totalScoreDict by value\n",
    "sortedTotalScoreDict = sorted(totalScoreDict.items(), key=lambda x: x[1], reverse=True)\n",
    "print(sortedTotalScoreDict)"
   ]
  },
  {
   "cell_type": "code",
   "execution_count": 107,
   "metadata": {},
   "outputs": [],
   "source": [
    "# #remainingWordleWords = sortRemainingWordleWordsAccordingToLetterFrequencyAndPosition(remainingWordleWords)\n",
    "# def calculateLetterScoreDict(remainingWordleWords):\n",
    "#     letters={}\n",
    "#     for word in remainingWordleWords:\n",
    "#         letterLevel = getLetterLevel(word)\n",
    "#         for index, letter in enumerate(word):\n",
    "#             #if letter in letters and letter not in duplicateLetters:\n",
    "#             if letter in letters:\n",
    "#                 letters[letter] = letterFrequencyArray(letter,letterLevel)\n",
    "#             else:\n",
    "#                 letters[letter] = 1\n",
    "#     # for letter in letters:\n",
    "#     #     letters[letter] = letters[letter]/len(remainingWordleWords)\n",
    "#     return letters\n",
    "\n",
    "# def letterFrequencyArray(letter,letterLevel):\n",
    "#     \"returns the frequency of letter in word in an array of five elements\"\n",
    "#     letterCount = letterLevel[letter]\n",
    "#     for position in range(letterCount):\n",
    "#         letterFrequencyArray[position] += 1\n",
    "#     return letterFrequencyArray\n",
    "\n",
    "# def getLetterLevel(word):\n",
    "#     \"returns a dictionary with count of letters in word as values and letter as key\"\n",
    "#     countedRepeatedLetters={}\n",
    "#     for letter in word:\n",
    "#         if letter in countedRepeatedLetters:\n",
    "#             countedRepeatedLetters[letter] += 1\n",
    "#         else:\n",
    "#             countedRepeatedLetters[letter] = 1\n",
    "#     return countedRepeatedLetters\n",
    "\n",
    "\n",
    "\n",
    "# #give score to words according to letter scores\n",
    "# def scoreWords(remainingWordleWords,letterScores):\n",
    "#     wordScores={}\n",
    "#     for word in remainingWordleWords:\n",
    "#         wordScores[word] = sum(letterScores[letter] for letter in word)\n",
    "#     return wordScores\n",
    "\n",
    "# letterScores = calculateLetterScoreDict(remainingWordleWords)"
   ]
  },
  {
   "cell_type": "code",
   "execution_count": null,
   "metadata": {},
   "outputs": [],
   "source": []
  }
 ],
 "metadata": {
  "interpreter": {
   "hash": "4921c38c01aa1f260e6956f662e1089be978edb0a5234d9f7dfc1d9f12389fb5"
  },
  "kernelspec": {
   "display_name": "Python 3.7.9 64-bit",
   "language": "python",
   "name": "python3"
  },
  "language_info": {
   "codemirror_mode": {
    "name": "ipython",
    "version": 3
   },
   "file_extension": ".py",
   "mimetype": "text/x-python",
   "name": "python",
   "nbconvert_exporter": "python",
   "pygments_lexer": "ipython3",
   "version": "3.7.9"
  },
  "orig_nbformat": 4
 },
 "nbformat": 4,
 "nbformat_minor": 2
}
