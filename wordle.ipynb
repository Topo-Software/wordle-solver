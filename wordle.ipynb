{
 "cells": [
  {
   "cell_type": "code",
   "execution_count": 563,
   "metadata": {},
   "outputs": [],
   "source": [
    "knownLetters=split(\"retv\")#all yellow or green\n",
    "usedLetters=np.array(split(\"rebustigerfixerfinerliver\")) #all used letters\n",
    "usedLettersWithUnknownPosition= [[\"r\",\"t\"],[\"e\"],[\"v\"],[],[]] #only yellow used letters in correct position\n",
    "lettersWithKnownPosition=[\"\",\"\",\"\",\"e\",\"r\"]#green"
   ]
  },
  {
   "cell_type": "code",
   "execution_count": 564,
   "metadata": {},
   "outputs": [],
   "source": [
    "#import words.json\n",
    "import json\n",
    "import numpy as np\n",
    "from string import ascii_lowercase as alphabet\n",
    "\n",
    "with open('newWords.json') as f:\n",
    "    allWordleWords = json.load(f)\n",
    "\n",
    "def filterWordsContainingAllKnownLetters(allWordleWords,knownLetters):\n",
    "    filteredWordleWords=[]\n",
    "    for word in allWordleWords:\n",
    "        if all(letter in word for letter in knownLetters):\n",
    "            filteredWordleWords.append(word)\n",
    "    return filteredWordleWords\n",
    "\n",
    "def filterWordsAccordingToKnownPositions(remainingWordleWords,lettersWithKnownPosition):\n",
    "    if lettersWithKnownPosition == [\"\",\"\",\"\",\"\",\"\"]:\n",
    "        return remainingWordleWords\n",
    "    filteredWordleWords=[]\n",
    "    for word in remainingWordleWords:\n",
    "        allConditionsMet=False\n",
    "        for index, letter in enumerate(word):\n",
    "            if lettersWithKnownPosition[index]==\"\":\n",
    "                pass\n",
    "            elif letter in lettersWithKnownPosition[index]:\n",
    "                allConditionsMet=True\n",
    "            else:\n",
    "                allConditionsMet=False\n",
    "        if allConditionsMet:\n",
    "            filteredWordleWords.append(word)\n",
    "    return filteredWordleWords\n",
    "\n",
    "#determine unique letters that cannot be in word\n",
    "def getAvailableLetters(knownLetters,usedLetters):\n",
    "    availableLetters=[]\n",
    "    for letter in alphabet:\n",
    "        if letter in knownLetters or letter not in usedLetters:\n",
    "            availableLetters.append(letter)\n",
    "    return availableLetters\n",
    "\n",
    "def filterWordsAccordingToAvailableLetters(remainingWordleWords,availableLetters):\n",
    "    filteredWordleWords=[]\n",
    "    for word in remainingWordleWords:\n",
    "        if all(letter in availableLetters for letter in word):\n",
    "            filteredWordleWords.append(word)\n",
    "    return filteredWordleWords\n",
    "\n",
    "def availableLettersAccordingToPosition(usedLettersWithUnknownPosition):\n",
    "    availableLetters=[[],[],[],[],[]]\n",
    "    for letter in alphabet:\n",
    "        for index, usedLetterArray in enumerate(usedLettersWithUnknownPosition):\n",
    "            if letter not in usedLetterArray:\n",
    "                availableLetters[index].append(letter)\n",
    "    return availableLetters\n",
    "\n",
    "def filterWordsAccordingToKnownLetterPositions(remainingWordleWords,availableLettersWithPosition):\n",
    "    filteredWordleWords=[]\n",
    "    \n",
    "    for word in remainingWordleWords:\n",
    "        allLettersAvailable=True\n",
    "        for index, letter in enumerate(word):\n",
    "            if letter not in availableLettersWithPosition[index]:\n",
    "                allLettersAvailable=False\n",
    "        if allLettersAvailable:\n",
    "            filteredWordleWords.append(word)\n",
    "    return filteredWordleWords\n",
    "\n",
    "def split(word):\n",
    "    return [char for char in word]\n"
   ]
  },
  {
   "cell_type": "code",
   "execution_count": 565,
   "metadata": {},
   "outputs": [],
   "source": [
    "availableLettersWithPosition = availableLettersAccordingToPosition(usedLettersWithUnknownPosition)\n",
    "availableLetters = getAvailableLetters(knownLetters,usedLetters)\n",
    "remainingWordleWords = filterWordsContainingAllKnownLetters(allWordleWords,knownLetters)\n",
    "remainingWordleWords = filterWordsAccordingToKnownPositions(remainingWordleWords,lettersWithKnownPosition)\n",
    "remainingWordleWords = filterWordsAccordingToAvailableLetters(remainingWordleWords,availableLetters)\n",
    "remainingWordleWords = filterWordsAccordingToKnownLetterPositions(remainingWordleWords,availableLettersWithPosition)"
   ]
  },
  {
   "cell_type": "code",
   "execution_count": 566,
   "metadata": {},
   "outputs": [],
   "source": [
    "letterCountDict = {}\n",
    "for letter in alphabet:\n",
    "    letterCountDict[letter] = [0,0,0,0,0]"
   ]
  },
  {
   "cell_type": "code",
   "execution_count": 567,
   "metadata": {},
   "outputs": [],
   "source": [
    "for word in remainingWordleWords:\n",
    "    for index, letter in enumerate(word):\n",
    "        letterCountDict[letter][index] += 1"
   ]
  },
  {
   "cell_type": "code",
   "execution_count": 568,
   "metadata": {},
   "outputs": [],
   "source": [
    "normalizedLetterCountDict = {}\n",
    "for letter in alphabet:\n",
    "    normalizedLetterCountDict[letter] = [0,0,0,0,0]\n",
    "    for index, count in enumerate(letterCountDict[letter]):\n",
    "        normalizedLetterCountDict[letter][index] = count/len(remainingWordleWords)\n"
   ]
  },
  {
   "cell_type": "code",
   "execution_count": 569,
   "metadata": {},
   "outputs": [],
   "source": [
    "#determine probability duplicate letters in remaining word list index is letter number of occurrences\n",
    "letterMultiplesArray = {}\n",
    "for letter in alphabet:\n",
    "    letterMultiplesArray[letter] = [0,0,0,0,0]"
   ]
  },
  {
   "cell_type": "code",
   "execution_count": 570,
   "metadata": {},
   "outputs": [],
   "source": [
    "for word in remainingWordleWords:\n",
    "    for letter in word:\n",
    "        letterMultiplesArray[letter][word.count(letter)-1] += 1"
   ]
  },
  {
   "cell_type": "code",
   "execution_count": 571,
   "metadata": {},
   "outputs": [],
   "source": [
    "# normalise letterMultiplesArray\n",
    "normalizedLetterMultiplesDict = {}\n",
    "for letter in alphabet:\n",
    "    normalizedLetterMultiplesDict[letter] = [0,0,0,0,0]\n",
    "    for index, count in enumerate(letterMultiplesArray[letter]):\n",
    "        normalizedLetterMultiplesDict[letter][index] = count/len(remainingWordleWords)"
   ]
  },
  {
   "cell_type": "code",
   "execution_count": 572,
   "metadata": {},
   "outputs": [],
   "source": [
    "#rate all words in remainingWordleWords return dictionary with word as key and score as value\n",
    "wordScoreDict = {}\n",
    "for word in remainingWordleWords:\n",
    "    score = 0\n",
    "    for index, letter in enumerate(word):\n",
    "        score += normalizedLetterCountDict[letter][index]\n",
    "    \n",
    "    wordScoreDict[word] = score"
   ]
  },
  {
   "cell_type": "code",
   "execution_count": 573,
   "metadata": {},
   "outputs": [],
   "source": [
    "#rate all words according to multiple of letter\n",
    "wordScoreMultipleDict = {}\n",
    "for word in remainingWordleWords:\n",
    "    score = 0\n",
    "    for index, letter in enumerate(word):\n",
    "        score += normalizedLetterMultiplesDict[letter][index]\n",
    "    \n",
    "    wordScoreMultipleDict[word] = score"
   ]
  },
  {
   "cell_type": "code",
   "execution_count": 574,
   "metadata": {},
   "outputs": [
    {
     "name": "stdout",
     "output_type": "stream",
     "text": [
      "[('voter', 5.0)]\n"
     ]
    }
   ],
   "source": [
    "#sort wordScoreDict by value\n",
    "sortedWordScoreDict = sorted(wordScoreDict.items(), key=lambda x: x[1], reverse=True)\n",
    "print(sortedWordScoreDict)"
   ]
  },
  {
   "cell_type": "code",
   "execution_count": 575,
   "metadata": {},
   "outputs": [
    {
     "name": "stdout",
     "output_type": "stream",
     "text": [
      "[('voter', 1.0)]\n"
     ]
    }
   ],
   "source": [
    "sortedWordScoreMultipleDict = sorted(wordScoreMultipleDict.items(), key=lambda x: x[1], reverse=True)\n",
    "print(sortedWordScoreMultipleDict)"
   ]
  },
  {
   "cell_type": "code",
   "execution_count": 576,
   "metadata": {},
   "outputs": [],
   "source": [
    "totalScoreDict = {}\n",
    "for word in remainingWordleWords:\n",
    "    for index, letter in enumerate(word):\n",
    "        #count letter in word\n",
    "        multiple=word.count(letter)\n",
    "        totalScoreDict[word] = normalizedLetterCountDict[letter][index] + normalizedLetterMultiplesDict[letter][multiple]"
   ]
  },
  {
   "cell_type": "code",
   "execution_count": 577,
   "metadata": {},
   "outputs": [
    {
     "name": "stdout",
     "output_type": "stream",
     "text": [
      "[('voter', 1.0)]\n"
     ]
    }
   ],
   "source": [
    "#sort totalScoreDict by value\n",
    "sortedTotalScoreDict = sorted(totalScoreDict.items(), key=lambda x: x[1], reverse=True)\n",
    "print(sortedTotalScoreDict)"
   ]
  },
  {
   "cell_type": "code",
   "execution_count": 578,
   "metadata": {},
   "outputs": [],
   "source": [
    "# #remainingWordleWords = sortRemainingWordleWordsAccordingToLetterFrequencyAndPosition(remainingWordleWords)\n",
    "# def calculateLetterScoreDict(remainingWordleWords):\n",
    "#     letters={}\n",
    "#     for word in remainingWordleWords:\n",
    "#         letterLevel = getLetterLevel(word)\n",
    "#         for index, letter in enumerate(word):\n",
    "#             #if letter in letters and letter not in duplicateLetters:\n",
    "#             if letter in letters:\n",
    "#                 letters[letter] = letterFrequencyArray(letter,letterLevel)\n",
    "#             else:\n",
    "#                 letters[letter] = 1\n",
    "#     # for letter in letters:\n",
    "#     #     letters[letter] = letters[letter]/len(remainingWordleWords)\n",
    "#     return letters\n",
    "\n",
    "# def letterFrequencyArray(letter,letterLevel):\n",
    "#     \"returns the frequency of letter in word in an array of five elements\"\n",
    "#     letterCount = letterLevel[letter]\n",
    "#     for position in range(letterCount):\n",
    "#         letterFrequencyArray[position] += 1\n",
    "#     return letterFrequencyArray\n",
    "\n",
    "# def getLetterLevel(word):\n",
    "#     \"returns a dictionary with count of letters in word as values and letter as key\"\n",
    "#     countedRepeatedLetters={}\n",
    "#     for letter in word:\n",
    "#         if letter in countedRepeatedLetters:\n",
    "#             countedRepeatedLetters[letter] += 1\n",
    "#         else:\n",
    "#             countedRepeatedLetters[letter] = 1\n",
    "#     return countedRepeatedLetters\n",
    "\n",
    "\n",
    "\n",
    "# #give score to words according to letter scores\n",
    "# def scoreWords(remainingWordleWords,letterScores):\n",
    "#     wordScores={}\n",
    "#     for word in remainingWordleWords:\n",
    "#         wordScores[word] = sum(letterScores[letter] for letter in word)\n",
    "#     return wordScores\n",
    "\n",
    "# letterScores = calculateLetterScoreDict(remainingWordleWords)"
   ]
  },
  {
   "cell_type": "code",
   "execution_count": null,
   "metadata": {},
   "outputs": [],
   "source": []
  }
 ],
 "metadata": {
  "interpreter": {
   "hash": "4921c38c01aa1f260e6956f662e1089be978edb0a5234d9f7dfc1d9f12389fb5"
  },
  "kernelspec": {
   "display_name": "Python 3.7.9 64-bit",
   "language": "python",
   "name": "python3"
  },
  "language_info": {
   "codemirror_mode": {
    "name": "ipython",
    "version": 3
   },
   "file_extension": ".py",
   "mimetype": "text/x-python",
   "name": "python",
   "nbconvert_exporter": "python",
   "pygments_lexer": "ipython3",
   "version": "3.7.9"
  },
  "orig_nbformat": 4
 },
 "nbformat": 4,
 "nbformat_minor": 2
}
