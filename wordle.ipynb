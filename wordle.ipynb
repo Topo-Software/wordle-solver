{
 "cells": [
  {
   "cell_type": "code",
   "execution_count": 125,
   "metadata": {},
   "outputs": [],
   "source": [
    "#import words.json\n",
    "import json\n",
    "import numpy as np\n",
    "from string import ascii_lowercase as alphabet\n",
    "\n",
    "\n",
    "def split(word):\n",
    "    return [char for char in word]\n",
    "\n",
    "knownLetters=split(\"gho\")#all yellow or green\n",
    "usedLetters=np.array(split(\"ghost\")) #all used letters\n",
    "usedLettersWithUnknownPosition= [[],[],[],[],[]] #only yellow used letters in correct position\n",
    "lettersWithKnownPosition=[\"g\",\"h\",\"o\",\"\",\"\"]#green"
   ]
  },
  {
   "cell_type": "code",
   "execution_count": 126,
   "metadata": {},
   "outputs": [
    {
     "name": "stdout",
     "output_type": "stream",
     "text": [
      "['g', 'h', 'o']\n",
      "['g' 'h' 'o' 's' 't']\n",
      "[[], [], [], [], []]\n",
      "['g', 'h', 'o', '', '']\n"
     ]
    }
   ],
   "source": [
    "print(knownLetters)\n",
    "print(usedLetters)\n",
    "print(usedLettersWithUnknownPosition)\n",
    "print(lettersWithKnownPosition)\n"
   ]
  },
  {
   "cell_type": "code",
   "execution_count": 127,
   "metadata": {},
   "outputs": [],
   "source": [
    "\n",
    "with open('Words.json') as f:\n",
    "    allWordleWords = json.load(f)\n",
    "\n",
    "\n",
    "def filterWordsContainingAllKnownLetters(allWordleWords,knownLetters):\n",
    "    filteredWordleWords=[]\n",
    "    for word in allWordleWords:\n",
    "        if all(letter in word for letter in knownLetters):\n",
    "            filteredWordleWords.append(word)\n",
    "    return filteredWordleWords\n",
    "\n",
    "def filterWordsAccordingToKnownPositions(remainingWordleWords,lettersWithKnownPosition):\n",
    "    if lettersWithKnownPosition == [\"\",\"\",\"\",\"\",\"\"]:\n",
    "        return remainingWordleWords\n",
    "    filteredWordleWords=[]\n",
    "    #append all words that contain all letters in correct position\n",
    "    for word in remainingWordleWords:\n",
    "        allLettersInWordFit=[False]*5\n",
    "        for letterIndex, letter in enumerate(word):\n",
    "            if lettersWithKnownPosition[letterIndex] == \"\":\n",
    "                allLettersInWordFit[letterIndex]=True\n",
    "            elif letter == lettersWithKnownPosition[letterIndex]:\n",
    "                allLettersInWordFit[letterIndex]=True\n",
    "        if all(allLettersInWordFit):\n",
    "            filteredWordleWords.append(word)\n",
    "    return filteredWordleWords\n",
    "\n",
    "\n",
    "    # for word in remainingWordleWords:\n",
    "    #     allConditionsMet=False\n",
    "    #     for index, letter in enumerate(word):\n",
    "    #         if lettersWithKnownPosition[index]==\"\":\n",
    "    #             pass\n",
    "    #         elif letter in lettersWithKnownPosition[index]:\n",
    "    #             allConditionsMet=True\n",
    "    #         else:\n",
    "    #             allConditionsMet=False\n",
    "    #     if allConditionsMet:\n",
    "    #         filteredWordleWords.append(word)\n",
    "    return filteredWordleWords\n",
    "\n",
    "#determine unique letters that cannot be in word\n",
    "def getAvailableLetters(knownLetters,usedLetters):\n",
    "    availableLetters=[]\n",
    "    for letter in alphabet:\n",
    "        if letter in knownLetters or letter not in usedLetters:\n",
    "            availableLetters.append(letter)\n",
    "    return availableLetters\n",
    "\n",
    "def filterWordsAccordingToAvailableLetters(remainingWordleWords,availableLetters):\n",
    "    filteredWordleWords=[]\n",
    "    for word in remainingWordleWords:\n",
    "        if all(letter in availableLetters for letter in word):\n",
    "            filteredWordleWords.append(word)\n",
    "    return filteredWordleWords\n",
    "\n",
    "def availableLettersAccordingToPosition(usedLettersWithUnknownPosition):\n",
    "    availableLetters=[[],[],[],[],[]]\n",
    "    for letter in alphabet:\n",
    "        for index, usedLetterArray in enumerate(usedLettersWithUnknownPosition):\n",
    "            if letter not in usedLetterArray:\n",
    "                availableLetters[index].append(letter)\n",
    "    return availableLetters\n",
    "\n",
    "def filterWordsAccordingToKnownLetterPositions(remainingWordleWords,availableLettersWithPosition):\n",
    "    filteredWordleWords=[]\n",
    "    \n",
    "    for word in remainingWordleWords:\n",
    "        allLettersAvailable=True\n",
    "        for index, letter in enumerate(word):\n",
    "            if letter not in availableLettersWithPosition[index]:\n",
    "                allLettersAvailable=False\n",
    "        if allLettersAvailable:\n",
    "            filteredWordleWords.append(word)\n",
    "    return filteredWordleWords\n",
    "\n",
    "def split(word):\n",
    "    return [char for char in word]\n"
   ]
  },
  {
   "cell_type": "code",
   "execution_count": 128,
   "metadata": {},
   "outputs": [],
   "source": [
    "availableLettersWithPosition = availableLettersAccordingToPosition(usedLettersWithUnknownPosition)\n",
    "availableLetters = getAvailableLetters(knownLetters,usedLetters)\n",
    "remainingWordleWords = filterWordsContainingAllKnownLetters(allWordleWords,knownLetters)\n",
    "remainingWordleWords = filterWordsAccordingToKnownPositions(remainingWordleWords,lettersWithKnownPosition)\n",
    "remainingWordleWords = filterWordsAccordingToAvailableLetters(remainingWordleWords,availableLetters)\n",
    "remainingWordleWords = filterWordsAccordingToKnownLetterPositions(remainingWordleWords,availableLettersWithPosition)"
   ]
  },
  {
   "cell_type": "code",
   "execution_count": 142,
   "metadata": {},
   "outputs": [
    {
     "name": "stdout",
     "output_type": "stream",
     "text": [
      "{'a': [0, 0, 0, 0, 0], 'b': [0, 0, 0, 0, 0], 'c': [0, 0, 0, 0, 0], 'd': [0, 0, 0, 0, 0], 'e': [0, 0, 0, 0, 0], 'f': [0, 0, 0, 0, 0], 'g': [0, 0, 0, 0, 0], 'h': [0, 0, 0, 0, 0], 'i': [0, 0, 0, 0, 0], 'j': [0, 0, 0, 0, 0], 'k': [0, 0, 0, 0, 0], 'l': [0, 0, 0, 0, 0], 'm': [0, 0, 0, 0, 0], 'n': [0, 0, 0, 0, 0], 'o': [0, 0, 0, 0, 0], 'p': [0, 0, 0, 0, 0], 'q': [0, 0, 0, 0, 0], 'r': [0, 0, 0, 0, 0], 's': [0, 0, 0, 0, 0], 't': [0, 0, 0, 0, 0], 'u': [0, 0, 0, 0, 0], 'v': [0, 0, 0, 0, 0], 'w': [0, 0, 0, 0, 0], 'x': [0, 0, 0, 0, 0], 'y': [0, 0, 0, 0, 0], 'z': [0, 0, 0, 0, 0]}\n"
     ]
    }
   ],
   "source": [
    "letterCountDict = {}\n",
    "for letter in alphabet:\n",
    "    letterCountDict[letter] = [0,0,0,0,0]\n"
   ]
  },
  {
   "cell_type": "code",
   "execution_count": 144,
   "metadata": {},
   "outputs": [
    {
     "name": "stdout",
     "output_type": "stream",
     "text": [
      "{'a': [737, 2263, 1236, 1076, 680], 'b': [909, 81, 335, 243, 59], 'c': [922, 176, 392, 411, 127], 'd': [685, 84, 390, 471, 823], 'e': [303, 1628, 882, 2327, 1522], 'f': [598, 24, 178, 233, 82], 'g': [639, 76, 364, 423, 143], 'h': [489, 547, 120, 235, 370], 'i': [165, 1383, 1051, 880, 280], 'j': [202, 11, 46, 29, 3], 'k': [377, 95, 272, 503, 259], 'l': [577, 699, 848, 771, 477], 'm': [693, 188, 511, 402, 182], 'n': [325, 345, 964, 788, 532], 'o': [262, 2097, 994, 698, 389], 'p': [859, 231, 364, 418, 147], 'q': [79, 15, 13, 2, 4], 'r': [628, 940, 1200, 719, 673], 's': [1565, 93, 533, 516, 3958], 't': [815, 239, 616, 898, 727], 'u': [189, 1188, 667, 402, 67], 'v': [242, 52, 240, 156, 4], 'w': [413, 163, 271, 128, 64], 'x': [16, 57, 133, 12, 70], 'y': [181, 271, 213, 108, 1301], 'z': [105, 29, 142, 126, 32]}\n"
     ]
    }
   ],
   "source": [
    "for word in allWordleWords:\n",
    "    for index, letter in enumerate(word):\n",
    "        letterCountDict[letter][index] += 1\n",
    "print(letterCountDict)"
   ]
  },
  {
   "cell_type": "code",
   "execution_count": 131,
   "metadata": {},
   "outputs": [],
   "source": [
    "normalizedLetterCountDict = {}\n",
    "for letter in alphabet:\n",
    "    normalizedLetterCountDict[letter] = [0,0,0,0,0]\n",
    "    for index, count in enumerate(letterCountDict[letter]):\n",
    "        normalizedLetterCountDict[letter][index] = count/len(remainingWordleWords)\n"
   ]
  },
  {
   "cell_type": "code",
   "execution_count": 132,
   "metadata": {},
   "outputs": [],
   "source": [
    "#determine probability duplicate letters in remaining word list index is letter number of occurrences\n",
    "letterMultiplesArray = {}\n",
    "for letter in alphabet:\n",
    "    letterMultiplesArray[letter] = [0,0,0,0,0]"
   ]
  },
  {
   "cell_type": "code",
   "execution_count": 133,
   "metadata": {},
   "outputs": [],
   "source": [
    "for word in remainingWordleWords:\n",
    "    for letter in word:\n",
    "        letterMultiplesArray[letter][word.count(letter)-1] += 1"
   ]
  },
  {
   "cell_type": "code",
   "execution_count": 134,
   "metadata": {},
   "outputs": [],
   "source": [
    "# normalise letterMultiplesArray\n",
    "normalizedLetterMultiplesDict = {}\n",
    "for letter in alphabet:\n",
    "    normalizedLetterMultiplesDict[letter] = [0,0,0,0,0]\n",
    "    for index, count in enumerate(letterMultiplesArray[letter]):\n",
    "        normalizedLetterMultiplesDict[letter][index] = count/len(remainingWordleWords)"
   ]
  },
  {
   "cell_type": "code",
   "execution_count": 135,
   "metadata": {},
   "outputs": [],
   "source": [
    "#rate all words in remainingWordleWords return dictionary with word as key and score as value\n",
    "wordScoreDict = {}\n",
    "for word in remainingWordleWords:\n",
    "    score = 0\n",
    "    for index, letter in enumerate(word):\n",
    "        score += normalizedLetterCountDict[letter][index]\n",
    "    \n",
    "    wordScoreDict[word] = score"
   ]
  },
  {
   "cell_type": "code",
   "execution_count": 136,
   "metadata": {},
   "outputs": [],
   "source": [
    "#rate all words according to multiple of letter\n",
    "wordScoreMultipleDict = {}\n",
    "for word in remainingWordleWords:\n",
    "    score = 0\n",
    "    for index, letter in enumerate(word):\n",
    "        score += normalizedLetterMultiplesDict[letter][index]\n",
    "    \n",
    "    wordScoreMultipleDict[word] = score"
   ]
  },
  {
   "cell_type": "code",
   "execution_count": 137,
   "metadata": {},
   "outputs": [
    {
     "name": "stdout",
     "output_type": "stream",
     "text": [
      "[('ghoul', 5.0)]\n"
     ]
    }
   ],
   "source": [
    "#sort wordScoreDict by value\n",
    "sortedWordScoreDict = sorted(wordScoreDict.items(), key=lambda x: x[1], reverse=True)\n",
    "print(sortedWordScoreDict)"
   ]
  },
  {
   "cell_type": "code",
   "execution_count": 138,
   "metadata": {},
   "outputs": [
    {
     "name": "stdout",
     "output_type": "stream",
     "text": [
      "[('ghoul', 1.0)]\n"
     ]
    }
   ],
   "source": [
    "sortedWordScoreMultipleDict = sorted(wordScoreMultipleDict.items(), key=lambda x: x[1], reverse=True)\n",
    "print(sortedWordScoreMultipleDict)"
   ]
  },
  {
   "cell_type": "code",
   "execution_count": 139,
   "metadata": {},
   "outputs": [],
   "source": [
    "totalScoreDict = {}\n",
    "for word in remainingWordleWords:\n",
    "    for index, letter in enumerate(word):\n",
    "        #count letter in word\n",
    "        multiple=word.count(letter)\n",
    "        totalScoreDict[word] = normalizedLetterCountDict[letter][index] + normalizedLetterMultiplesDict[letter][multiple]"
   ]
  },
  {
   "cell_type": "code",
   "execution_count": 140,
   "metadata": {},
   "outputs": [
    {
     "name": "stdout",
     "output_type": "stream",
     "text": [
      "[('ghoul', 1.0)]\n"
     ]
    }
   ],
   "source": [
    "#sort totalScoreDict by value\n",
    "sortedTotalScoreDict = sorted(totalScoreDict.items(), key=lambda x: x[1], reverse=True)\n",
    "print(sortedTotalScoreDict)"
   ]
  },
  {
   "cell_type": "code",
   "execution_count": 141,
   "metadata": {},
   "outputs": [],
   "source": [
    "# #remainingWordleWords = sortRemainingWordleWordsAccordingToLetterFrequencyAndPosition(remainingWordleWords)\n",
    "# def calculateLetterScoreDict(remainingWordleWords):\n",
    "#     letters={}\n",
    "#     for word in remainingWordleWords:\n",
    "#         letterLevel = getLetterLevel(word)\n",
    "#         for index, letter in enumerate(word):\n",
    "#             #if letter in letters and letter not in duplicateLetters:\n",
    "#             if letter in letters:\n",
    "#                 letters[letter] = letterFrequencyArray(letter,letterLevel)\n",
    "#             else:\n",
    "#                 letters[letter] = 1\n",
    "#     # for letter in letters:\n",
    "#     #     letters[letter] = letters[letter]/len(remainingWordleWords)\n",
    "#     return letters\n",
    "\n",
    "# def letterFrequencyArray(letter,letterLevel):\n",
    "#     \"returns the frequency of letter in word in an array of five elements\"\n",
    "#     letterCount = letterLevel[letter]\n",
    "#     for position in range(letterCount):\n",
    "#         letterFrequencyArray[position] += 1\n",
    "#     return letterFrequencyArray\n",
    "\n",
    "# def getLetterLevel(word):\n",
    "#     \"returns a dictionary with count of letters in word as values and letter as key\"\n",
    "#     countedRepeatedLetters={}\n",
    "#     for letter in word:\n",
    "#         if letter in countedRepeatedLetters:\n",
    "#             countedRepeatedLetters[letter] += 1\n",
    "#         else:\n",
    "#             countedRepeatedLetters[letter] = 1\n",
    "#     return countedRepeatedLetters\n",
    "\n",
    "\n",
    "\n",
    "# #give score to words according to letter scores\n",
    "# def scoreWords(remainingWordleWords,letterScores):\n",
    "#     wordScores={}\n",
    "#     for word in remainingWordleWords:\n",
    "#         wordScores[word] = sum(letterScores[letter] for letter in word)\n",
    "#     return wordScores\n",
    "\n",
    "# letterScores = calculateLetterScoreDict(remainingWordleWords)"
   ]
  },
  {
   "cell_type": "code",
   "execution_count": null,
   "metadata": {},
   "outputs": [],
   "source": []
  }
 ],
 "metadata": {
  "interpreter": {
   "hash": "4921c38c01aa1f260e6956f662e1089be978edb0a5234d9f7dfc1d9f12389fb5"
  },
  "kernelspec": {
   "display_name": "Python 3.7.9 64-bit",
   "language": "python",
   "name": "python3"
  },
  "language_info": {
   "codemirror_mode": {
    "name": "ipython",
    "version": 3
   },
   "file_extension": ".py",
   "mimetype": "text/x-python",
   "name": "python",
   "nbconvert_exporter": "python",
   "pygments_lexer": "ipython3",
   "version": "3.7.9"
  },
  "orig_nbformat": 4
 },
 "nbformat": 4,
 "nbformat_minor": 2
}
